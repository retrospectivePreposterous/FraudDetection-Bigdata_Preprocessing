{
 "cells": [
  {
   "cell_type": "markdown",
   "metadata": {},
   "source": [
    "# EMPLEANDO DASK PARA LEER LOS DATOS"
   ]
  },
  {
   "cell_type": "code",
   "execution_count": 11,
   "metadata": {},
   "outputs": [],
   "source": [
    "import dask.dataframe as dd\n",
    "import pandas as pd\n",
    "import matplotlib.pyplot as plt\n",
    "from sklearn.preprocessing import LabelEncoder\n",
    "from sklearn import preprocessing"
   ]
  },
  {
   "cell_type": "code",
   "execution_count": 55,
   "metadata": {},
   "outputs": [],
   "source": [
    "dsk_df = dd.read_csv('credit_card_transactions-ibm_v2.csv')"
   ]
  },
  {
   "cell_type": "code",
   "execution_count": 14,
   "metadata": {},
   "outputs": [],
   "source": [
    "# Se extraen sólo las filas donde el fraude es sí \n",
    "pd_fraud = dsk_df[(dsk_df['Is Fraud?'] == 'Yes')]\n",
    "pd_fraud = pd_fraud.compute()\n",
    "\n",
    "# Se extraen sólo las filas donde el fraude es no y se reduce el tamaño \n",
    "# La proporción de reducción es distinta, dado que hay muchos menos casos de fraude que de no fraude\n",
    "pd_no_fraud = dsk_df[(dsk_df['Is Fraud?'] == 'No')]\n",
    "pd_no_fraud = pd_no_fraud.sample(frac=0.005, random_state=1)\n",
    "pd_no_fraud = pd_no_fraud.compute()\n",
    "\n",
    "# Se genera un dataframe pandas y se guarda el csv\n",
    "data = pd_fraud.append(pd_no_fraud)\n",
    "data.to_csv('DownsampleData.csv', index=False)"
   ]
  },
  {
   "cell_type": "markdown",
   "metadata": {},
   "source": [
    "# PREPROCESADO DE DATOS"
   ]
  },
  {
   "cell_type": "code",
   "execution_count": 41,
   "metadata": {},
   "outputs": [],
   "source": [
    "data = pd.read_csv('DownsampleData.csv')"
   ]
  },
  {
   "cell_type": "code",
   "execution_count": 43,
   "metadata": {},
   "outputs": [
    {
     "name": "stderr",
     "output_type": "stream",
     "text": [
      "C:\\Users\\Alejandro\\anaconda3\\lib\\site-packages\\pandas\\core\\indexing.py:670: SettingWithCopyWarning: \n",
      "A value is trying to be set on a copy of a slice from a DataFrame\n",
      "\n",
      "See the caveats in the documentation: https://pandas.pydata.org/pandas-docs/stable/user_guide/indexing.html#returning-a-view-versus-a-copy\n",
      "  iloc._setitem_with_indexer(indexer, value)\n"
     ]
    }
   ],
   "source": [
    "# Amount:\n",
    "# El caracter del dólar es innecesario, se debe eliminar y pasar los datos de tipo object a float.\n",
    "data['Amount'] = data['Amount'].str.replace(r'$', '')\n",
    "\n",
    "# Time:\n",
    "# Se opta por pasar a numérico. Eliminando los minutos se simplifica la variable en 24 clases.\n",
    "data['Time'] = data['Time'].str[:2]\n",
    "\n",
    "# Use Chip:\n",
    "# Como hay 3 únicas clases en el dataset depurado (aunque en Kaggle se aprecia el subconjunto \"others\") se codifican.\n",
    "data['Use Chip'] = data['Use Chip'].replace({\"Swipe Transaction\": 0, \"Chip Transaction\": 1, \"Online Transaction\": 2})\n",
    "\n",
    "# Merchant City:\n",
    "# También se binariza la columna, sustituyendo ONLINE por 1 y el resto por 0\n",
    "data['Merchant City'].loc[data['Merchant City'] != 'ONLINE'] = 0\n",
    "data['Merchant City'].loc[data['Merchant City'] == 'ONLINE'] = 1\n",
    "\n",
    "# Merchant State:\n",
    "# Se utiliza un label encoder para codificar los estados\n",
    "data['Merchant State'].loc[data['Merchant State'].isnull()] = 'No State'   # Se sustituyen los Nan por un string\n",
    "encoder = LabelEncoder()\n",
    "encoder.fit(data['Merchant State'])\n",
    "data['Merchant State'] = encoder.transform(data['Merchant State'])\n",
    "\n",
    "# Zip:\n",
    "# Se sustituyen los valores NaN por 0.\n",
    "data['Zip'].loc[data['Zip'].isnull()] = 0  \n",
    "\n",
    "# Errors?:\n",
    "# Para simplificar el dataset se considerarán todos los NaN como 0 (no hay errores) y todos los demás errores como 1.\n",
    "data['Errors?'].loc[~data['Errors?'].isnull()] = 1  # not nan\n",
    "data['Errors?'].loc[data['Errors?'].isnull()] = 0   # nan\n",
    "\n",
    "# Is Fraud?:\n",
    "# También se binariza la columna, sustituyendo No por 0 y Yes por 1\n",
    "data['Is Fraud?'].loc[data['Is Fraud?'] == 'No'] = 0\n",
    "data['Is Fraud?'].loc[data['Is Fraud?'] == 'Yes'] = 1\n",
    "\n",
    "# Se convierten los datos a floats\n",
    "data = data .astype(float)\n",
    "\n",
    "# Se guarda el dataset\n",
    "data.to_csv('PreprocessedData.csv', index=False)"
   ]
  },
  {
   "cell_type": "code",
   "execution_count": 56,
   "metadata": {},
   "outputs": [
    {
     "data": {
      "text/html": [
       "<div>\n",
       "<style scoped>\n",
       "    .dataframe tbody tr th:only-of-type {\n",
       "        vertical-align: middle;\n",
       "    }\n",
       "\n",
       "    .dataframe tbody tr th {\n",
       "        vertical-align: top;\n",
       "    }\n",
       "\n",
       "    .dataframe thead th {\n",
       "        text-align: right;\n",
       "    }\n",
       "</style>\n",
       "<table border=\"1\" class=\"dataframe\">\n",
       "  <thead>\n",
       "    <tr style=\"text-align: right;\">\n",
       "      <th></th>\n",
       "      <th>User</th>\n",
       "      <th>Card</th>\n",
       "      <th>Year</th>\n",
       "      <th>Month</th>\n",
       "      <th>Day</th>\n",
       "      <th>Time</th>\n",
       "      <th>Amount</th>\n",
       "      <th>Use Chip</th>\n",
       "      <th>Merchant Name</th>\n",
       "      <th>Merchant City</th>\n",
       "      <th>Merchant State</th>\n",
       "      <th>Zip</th>\n",
       "      <th>MCC</th>\n",
       "      <th>Errors?</th>\n",
       "      <th>Is Fraud?</th>\n",
       "    </tr>\n",
       "  </thead>\n",
       "  <tbody>\n",
       "    <tr>\n",
       "      <th>0</th>\n",
       "      <td>0.0</td>\n",
       "      <td>0.0</td>\n",
       "      <td>2015.0</td>\n",
       "      <td>11.0</td>\n",
       "      <td>15.0</td>\n",
       "      <td>12.0</td>\n",
       "      <td>287.13</td>\n",
       "      <td>2.0</td>\n",
       "      <td>-8.194608e+18</td>\n",
       "      <td>1.0</td>\n",
       "      <td>80.0</td>\n",
       "      <td>0.0</td>\n",
       "      <td>3001.0</td>\n",
       "      <td>0.0</td>\n",
       "      <td>1.0</td>\n",
       "    </tr>\n",
       "    <tr>\n",
       "      <th>1</th>\n",
       "      <td>0.0</td>\n",
       "      <td>0.0</td>\n",
       "      <td>2015.0</td>\n",
       "      <td>11.0</td>\n",
       "      <td>15.0</td>\n",
       "      <td>13.0</td>\n",
       "      <td>2.41</td>\n",
       "      <td>2.0</td>\n",
       "      <td>-7.759074e+18</td>\n",
       "      <td>1.0</td>\n",
       "      <td>80.0</td>\n",
       "      <td>0.0</td>\n",
       "      <td>5651.0</td>\n",
       "      <td>0.0</td>\n",
       "      <td>1.0</td>\n",
       "    </tr>\n",
       "    <tr>\n",
       "      <th>2</th>\n",
       "      <td>0.0</td>\n",
       "      <td>0.0</td>\n",
       "      <td>2015.0</td>\n",
       "      <td>11.0</td>\n",
       "      <td>16.0</td>\n",
       "      <td>9.0</td>\n",
       "      <td>50.81</td>\n",
       "      <td>2.0</td>\n",
       "      <td>-5.513321e+17</td>\n",
       "      <td>1.0</td>\n",
       "      <td>80.0</td>\n",
       "      <td>0.0</td>\n",
       "      <td>4411.0</td>\n",
       "      <td>0.0</td>\n",
       "      <td>1.0</td>\n",
       "    </tr>\n",
       "    <tr>\n",
       "      <th>3</th>\n",
       "      <td>0.0</td>\n",
       "      <td>0.0</td>\n",
       "      <td>2015.0</td>\n",
       "      <td>11.0</td>\n",
       "      <td>16.0</td>\n",
       "      <td>9.0</td>\n",
       "      <td>248.36</td>\n",
       "      <td>2.0</td>\n",
       "      <td>4.872341e+18</td>\n",
       "      <td>1.0</td>\n",
       "      <td>80.0</td>\n",
       "      <td>0.0</td>\n",
       "      <td>5732.0</td>\n",
       "      <td>0.0</td>\n",
       "      <td>1.0</td>\n",
       "    </tr>\n",
       "    <tr>\n",
       "      <th>4</th>\n",
       "      <td>0.0</td>\n",
       "      <td>0.0</td>\n",
       "      <td>2015.0</td>\n",
       "      <td>11.0</td>\n",
       "      <td>16.0</td>\n",
       "      <td>11.0</td>\n",
       "      <td>473.00</td>\n",
       "      <td>2.0</td>\n",
       "      <td>-8.566952e+18</td>\n",
       "      <td>1.0</td>\n",
       "      <td>80.0</td>\n",
       "      <td>0.0</td>\n",
       "      <td>3640.0</td>\n",
       "      <td>0.0</td>\n",
       "      <td>1.0</td>\n",
       "    </tr>\n",
       "    <tr>\n",
       "      <th>...</th>\n",
       "      <td>...</td>\n",
       "      <td>...</td>\n",
       "      <td>...</td>\n",
       "      <td>...</td>\n",
       "      <td>...</td>\n",
       "      <td>...</td>\n",
       "      <td>...</td>\n",
       "      <td>...</td>\n",
       "      <td>...</td>\n",
       "      <td>...</td>\n",
       "      <td>...</td>\n",
       "      <td>...</td>\n",
       "      <td>...</td>\n",
       "      <td>...</td>\n",
       "      <td>...</td>\n",
       "    </tr>\n",
       "    <tr>\n",
       "      <th>151536</th>\n",
       "      <td>1997.0</td>\n",
       "      <td>1.0</td>\n",
       "      <td>2011.0</td>\n",
       "      <td>11.0</td>\n",
       "      <td>26.0</td>\n",
       "      <td>11.0</td>\n",
       "      <td>3.84</td>\n",
       "      <td>0.0</td>\n",
       "      <td>1.799190e+18</td>\n",
       "      <td>0.0</td>\n",
       "      <td>40.0</td>\n",
       "      <td>60616.0</td>\n",
       "      <td>5499.0</td>\n",
       "      <td>0.0</td>\n",
       "      <td>0.0</td>\n",
       "    </tr>\n",
       "    <tr>\n",
       "      <th>151537</th>\n",
       "      <td>1955.0</td>\n",
       "      <td>1.0</td>\n",
       "      <td>2014.0</td>\n",
       "      <td>3.0</td>\n",
       "      <td>29.0</td>\n",
       "      <td>8.0</td>\n",
       "      <td>5.19</td>\n",
       "      <td>0.0</td>\n",
       "      <td>4.722913e+18</td>\n",
       "      <td>0.0</td>\n",
       "      <td>70.0</td>\n",
       "      <td>68164.0</td>\n",
       "      <td>5411.0</td>\n",
       "      <td>0.0</td>\n",
       "      <td>0.0</td>\n",
       "    </tr>\n",
       "    <tr>\n",
       "      <th>151538</th>\n",
       "      <td>1986.0</td>\n",
       "      <td>0.0</td>\n",
       "      <td>2014.0</td>\n",
       "      <td>2.0</td>\n",
       "      <td>20.0</td>\n",
       "      <td>11.0</td>\n",
       "      <td>10.60</td>\n",
       "      <td>0.0</td>\n",
       "      <td>9.703280e+16</td>\n",
       "      <td>0.0</td>\n",
       "      <td>103.0</td>\n",
       "      <td>37920.0</td>\n",
       "      <td>5411.0</td>\n",
       "      <td>0.0</td>\n",
       "      <td>0.0</td>\n",
       "    </tr>\n",
       "    <tr>\n",
       "      <th>151539</th>\n",
       "      <td>1980.0</td>\n",
       "      <td>1.0</td>\n",
       "      <td>2018.0</td>\n",
       "      <td>2.0</td>\n",
       "      <td>21.0</td>\n",
       "      <td>8.0</td>\n",
       "      <td>2.58</td>\n",
       "      <td>0.0</td>\n",
       "      <td>-1.288082e+18</td>\n",
       "      <td>0.0</td>\n",
       "      <td>59.0</td>\n",
       "      <td>49720.0</td>\n",
       "      <td>5499.0</td>\n",
       "      <td>0.0</td>\n",
       "      <td>0.0</td>\n",
       "    </tr>\n",
       "    <tr>\n",
       "      <th>151540</th>\n",
       "      <td>1955.0</td>\n",
       "      <td>1.0</td>\n",
       "      <td>2002.0</td>\n",
       "      <td>6.0</td>\n",
       "      <td>24.0</td>\n",
       "      <td>9.0</td>\n",
       "      <td>85.78</td>\n",
       "      <td>0.0</td>\n",
       "      <td>-6.761066e+18</td>\n",
       "      <td>0.0</td>\n",
       "      <td>70.0</td>\n",
       "      <td>68310.0</td>\n",
       "      <td>5310.0</td>\n",
       "      <td>0.0</td>\n",
       "      <td>0.0</td>\n",
       "    </tr>\n",
       "  </tbody>\n",
       "</table>\n",
       "<p>151541 rows × 15 columns</p>\n",
       "</div>"
      ],
      "text/plain": [
       "          User  Card    Year  Month   Day  Time  Amount  Use Chip  \\\n",
       "0          0.0   0.0  2015.0   11.0  15.0  12.0  287.13       2.0   \n",
       "1          0.0   0.0  2015.0   11.0  15.0  13.0    2.41       2.0   \n",
       "2          0.0   0.0  2015.0   11.0  16.0   9.0   50.81       2.0   \n",
       "3          0.0   0.0  2015.0   11.0  16.0   9.0  248.36       2.0   \n",
       "4          0.0   0.0  2015.0   11.0  16.0  11.0  473.00       2.0   \n",
       "...        ...   ...     ...    ...   ...   ...     ...       ...   \n",
       "151536  1997.0   1.0  2011.0   11.0  26.0  11.0    3.84       0.0   \n",
       "151537  1955.0   1.0  2014.0    3.0  29.0   8.0    5.19       0.0   \n",
       "151538  1986.0   0.0  2014.0    2.0  20.0  11.0   10.60       0.0   \n",
       "151539  1980.0   1.0  2018.0    2.0  21.0   8.0    2.58       0.0   \n",
       "151540  1955.0   1.0  2002.0    6.0  24.0   9.0   85.78       0.0   \n",
       "\n",
       "        Merchant Name  Merchant City  Merchant State      Zip     MCC  \\\n",
       "0       -8.194608e+18            1.0            80.0      0.0  3001.0   \n",
       "1       -7.759074e+18            1.0            80.0      0.0  5651.0   \n",
       "2       -5.513321e+17            1.0            80.0      0.0  4411.0   \n",
       "3        4.872341e+18            1.0            80.0      0.0  5732.0   \n",
       "4       -8.566952e+18            1.0            80.0      0.0  3640.0   \n",
       "...               ...            ...             ...      ...     ...   \n",
       "151536   1.799190e+18            0.0            40.0  60616.0  5499.0   \n",
       "151537   4.722913e+18            0.0            70.0  68164.0  5411.0   \n",
       "151538   9.703280e+16            0.0           103.0  37920.0  5411.0   \n",
       "151539  -1.288082e+18            0.0            59.0  49720.0  5499.0   \n",
       "151540  -6.761066e+18            0.0            70.0  68310.0  5310.0   \n",
       "\n",
       "        Errors?  Is Fraud?  \n",
       "0           0.0        1.0  \n",
       "1           0.0        1.0  \n",
       "2           0.0        1.0  \n",
       "3           0.0        1.0  \n",
       "4           0.0        1.0  \n",
       "...         ...        ...  \n",
       "151536      0.0        0.0  \n",
       "151537      0.0        0.0  \n",
       "151538      0.0        0.0  \n",
       "151539      0.0        0.0  \n",
       "151540      0.0        0.0  \n",
       "\n",
       "[151541 rows x 15 columns]"
      ]
     },
     "execution_count": 56,
     "metadata": {},
     "output_type": "execute_result"
    }
   ],
   "source": [
    "data"
   ]
  },
  {
   "cell_type": "markdown",
   "metadata": {},
   "source": [
    "# COMPARACIÓN DE PARES DE VARIABLES"
   ]
  },
  {
   "cell_type": "code",
   "execution_count": 45,
   "metadata": {},
   "outputs": [],
   "source": [
    "data = pd.read_csv('PreprocessedData.csv')\n",
    "\n",
    "data_in = data.loc[data['Is Fraud?'] == 0.0]\n",
    "data_out = data.loc[data['Is Fraud?'] == 1.0]"
   ]
  },
  {
   "cell_type": "code",
   "execution_count": 46,
   "metadata": {},
   "outputs": [],
   "source": [
    "def compare (x,y):\n",
    "    plt.scatter(data_in[x], data_in[y] )\n",
    "    plt.scatter(data_out[x], data_out[y], linewidths=5, c='red' )"
   ]
  },
  {
   "cell_type": "code",
   "execution_count": 47,
   "metadata": {},
   "outputs": [
    {
     "data": {
      "image/png": "[encoded data removed]",
      "text/plain": [
       "<Figure size 432x288 with 1 Axes>"
      ]
     },
     "metadata": {
      "needs_background": "light"
     },
     "output_type": "display_data"
    }
   ],
   "source": [
    "compare('Year','Amount')"
   ]
  },
  {
   "cell_type": "code",
   "execution_count": 48,
   "metadata": {},
   "outputs": [
    {
     "data": {
      "image/png": "[encoded data removed]",
      "text/plain": [
       "<Figure size 432x288 with 1 Axes>"
      ]
     },
     "metadata": {
      "needs_background": "light"
     },
     "output_type": "display_data"
    }
   ],
   "source": [
    "compare('Year','MCC')"
   ]
  },
  {
   "cell_type": "markdown",
   "metadata": {},
   "source": [
    "# DESARROLLO DEL MODELO DE MACHINE LEARNING"
   ]
  },
  {
   "cell_type": "code",
   "execution_count": 49,
   "metadata": {},
   "outputs": [
    {
     "data": {
      "text/plain": [
       "0.0    121784\n",
       "1.0     29757\n",
       "Name: Is Fraud?, dtype: int64"
      ]
     },
     "execution_count": 49,
     "metadata": {},
     "output_type": "execute_result"
    }
   ],
   "source": [
    "data = pd.read_csv('PreprocessedData.csv')\n",
    "data['Is Fraud?'].value_counts()"
   ]
  },
  {
   "cell_type": "code",
   "execution_count": 50,
   "metadata": {},
   "outputs": [],
   "source": [
    "# Se cargan las librerías de Machine Learning\n",
    "import random\n",
    "from sklearn.model_selection import train_test_split\n",
    "from sklearn import metrics\n",
    "\n",
    "from sklearn.ensemble import RandomForestClassifier\n",
    "from sklearn import svm\n",
    "from sklearn.neighbors import KNeighborsClassifier\n",
    "from sklearn.neural_network import MLPClassifier\n",
    "\n",
    "from dtreeviz.trees import *\n",
    "from IPython.core.display import display, HTML"
   ]
  },
  {
   "cell_type": "code",
   "execution_count": 51,
   "metadata": {},
   "outputs": [],
   "source": [
    "# Se aislan las variables de entrada 'X' de la variable predictora 'y', la que queremos hallar\n",
    "X = data.drop('Is Fraud?', axis=1)     # Variables 'X', todas menos la etiqueta 'Is Fraud', la variable predictora\n",
    "y = data['Is Fraud?']                  # Variable 'y', la etiqueta binaria 'Is Fraud'\n",
    "\n",
    "# Se convierten las variables a numpy para posteriormente poder aplicar reshape y adaptar su dimensión\n",
    "X = np.nan_to_num(X)\n",
    "y = np.nan_to_num(y)\n",
    "\n",
    "# Finalmente, para evitar overfitting se dividen el conjunto de datos en conjunto de entrenamiento y de test\n",
    "X_train, X_test, y_train, y_test = train_test_split(X, y, test_size=0.2, random_state=0)\n",
    "X_test = X_test.reshape(-X_test.shape[0],X_test.shape[1])    #Reshape de X_test para poder introducirlo"
   ]
  },
  {
   "cell_type": "code",
   "execution_count": 52,
   "metadata": {},
   "outputs": [],
   "source": [
    "def metricas ():\n",
    "    print(\"-----------------------------------------------------\")\n",
    "    print('Métricas de error:')\n",
    "    print('MAE', metrics.mean_absolute_error(y, y_pred))  \n",
    "    print('MSE', metrics.mean_squared_error(y, y_pred))  \n",
    "    print('RMSE:', np.sqrt(metrics.mean_squared_error(y, y_pred)))\n",
    "    print(\"-----------------------------------------------------\")\n",
    "    print('Matriz de Confusión:')\n",
    "    print(metrics.confusion_matrix(y, y_pred))\n",
    "    print(\"-----------------------------------------------------\")\n",
    "    print('Report:')\n",
    "    print(metrics.classification_report(y, y_pred))"
   ]
  },
  {
   "cell_type": "code",
   "execution_count": 53,
   "metadata": {},
   "outputs": [
    {
     "name": "stdout",
     "output_type": "stream",
     "text": [
      "RANDOM FOREST\n",
      "-----------------------------------------------------\n",
      "Métricas de error:\n",
      "MAE 0.00979272936037112\n",
      "MSE 0.00979272936037112\n",
      "RMSE: 0.09895822027689827\n",
      "-----------------------------------------------------\n",
      "Matriz de Confusión:\n",
      "[[121572    212]\n",
      " [  1272  28485]]\n",
      "-----------------------------------------------------\n",
      "Report:\n",
      "              precision    recall  f1-score   support\n",
      "\n",
      "         0.0       0.99      1.00      0.99    121784\n",
      "         1.0       0.99      0.96      0.97     29757\n",
      "\n",
      "    accuracy                           0.99    151541\n",
      "   macro avg       0.99      0.98      0.98    151541\n",
      "weighted avg       0.99      0.99      0.99    151541\n",
      "\n"
     ]
    }
   ],
   "source": [
    "print(\"RANDOM FOREST\")\n",
    "clf = RandomForestClassifier(n_estimators = 10, criterion = 'gini', random_state=0)\n",
    "clf.fit(X_train, y_train)\n",
    "y_pred = clf.predict(X)\n",
    "\n",
    "metricas()"
   ]
  },
  {
   "cell_type": "code",
   "execution_count": 54,
   "metadata": {},
   "outputs": [
    {
     "name": "stdout",
     "output_type": "stream",
     "text": [
      "K NEAREST NEIGHBORS\n",
      "-----------------------------------------------------\n",
      "Métricas de error:\n",
      "MAE 0.036683141855999364\n",
      "MSE 0.036683141855999364\n",
      "RMSE: 0.19152843615505077\n",
      "-----------------------------------------------------\n",
      "Matriz de Confusión:\n",
      "[[120133   1651]\n",
      " [  3908  25849]]\n",
      "-----------------------------------------------------\n",
      "Report:\n",
      "              precision    recall  f1-score   support\n",
      "\n",
      "         0.0       0.97      0.99      0.98    121784\n",
      "         1.0       0.94      0.87      0.90     29757\n",
      "\n",
      "    accuracy                           0.96    151541\n",
      "   macro avg       0.95      0.93      0.94    151541\n",
      "weighted avg       0.96      0.96      0.96    151541\n",
      "\n"
     ]
    }
   ],
   "source": [
    "print(\"K NEAREST NEIGHBORS\")\n",
    "clf = KNeighborsClassifier(n_neighbors=3)\n",
    "clf.fit(X_train, y_train)\n",
    "y_pred = clf.predict(X)\n",
    "\n",
    "metricas()"
   ]
  },
  {
   "cell_type": "code",
   "execution_count": 40,
   "metadata": {},
   "outputs": [],
   "source": [
    "# DESARROLLO DEL MODELO DE DEEP LEARNING"
   ]
  },
  {
   "cell_type": "code",
   "execution_count": null,
   "metadata": {},
   "outputs": [],
   "source": []
  }
 ],
 "metadata": {
  "kernelspec": {
   "display_name": "Python 3",
   "language": "python",
   "name": "python3"
  },
  "language_info": {
   "codemirror_mode": {
    "name": "ipython",
    "version": 3
   },
   "file_extension": ".py",
   "mimetype": "text/x-python",
   "name": "python",
   "nbconvert_exporter": "python",
   "pygments_lexer": "ipython3",
   "version": "3.8.5"
  }
 },
 "nbformat": 4,
 "nbformat_minor": 4
}
